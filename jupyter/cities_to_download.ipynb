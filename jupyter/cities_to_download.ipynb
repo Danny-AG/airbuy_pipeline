{
 "cells": [
  {
   "cell_type": "markdown",
   "id": "877295e9-8179-4997-b2c2-81013a268f99",
   "metadata": {},
   "source": [
    "# Getting city names listed in Global Properties SQM data"
   ]
  },
  {
   "cell_type": "markdown",
   "id": "d0d4a84f-edd4-4a79-b6af-8fe7422929f7",
   "metadata": {},
   "source": [
    "The global properties sqm data only contains country names, whereas I want the city names. However, the website that contains the data stipulates that the data is for the \"capital city\" for each entry, therefore we can simply lookup the capital city for each country using a separate data set."
   ]
  },
  {
   "cell_type": "markdown",
   "id": "bb6d3eb0-512e-4204-b9f3-7218b569b9dc",
   "metadata": {},
   "source": [
    "## Capital city data\n",
    "##### Create a dict out of the capital cities csv"
   ]
  },
  {
   "cell_type": "code",
   "execution_count": 63,
   "id": "164d2a58-e085-47a3-9635-fa1366662cf6",
   "metadata": {
    "scrolled": true
   },
   "outputs": [],
   "source": [
    "import csv\n",
    "\n",
    "capital_city_csv_path = r\"../data/country_capital_city.csv\"\n",
    "\n",
    "with open(capital_city_csv_path, 'r') as csv_file:\n",
    "    # Create a CSV reader\n",
    "    csv_reader = csv.DictReader(csv_file)\n",
    "    country_capital_dict = {row['Country']:row['Capital City'] for row in csv_reader}"
   ]
  },
  {
   "cell_type": "markdown",
   "id": "e09ebde1-6f3d-4bc9-b282-703e3fbdb7a1",
   "metadata": {},
   "source": [
    "### Global SQM data\n",
    "##### Read Global SQM data into a dataframe"
   ]
  },
  {
   "cell_type": "code",
   "execution_count": 64,
   "id": "b45be089-5751-41c3-895f-913163be9d94",
   "metadata": {},
   "outputs": [
    {
     "data": {
      "text/html": [
       "<div>\n",
       "<style scoped>\n",
       "    .dataframe tbody tr th:only-of-type {\n",
       "        vertical-align: middle;\n",
       "    }\n",
       "\n",
       "    .dataframe tbody tr th {\n",
       "        vertical-align: top;\n",
       "    }\n",
       "\n",
       "    .dataframe thead th {\n",
       "        text-align: right;\n",
       "    }\n",
       "</style>\n",
       "<table border=\"1\" class=\"dataframe\">\n",
       "  <thead>\n",
       "    <tr style=\"text-align: right;\">\n",
       "      <th></th>\n",
       "      <th>Country/City</th>\n",
       "      <th>Buying Price\\nUS $ per Sq. M.</th>\n",
       "      <th>Price/Rent\\nRatio (x)</th>\n",
       "      <th>Rent per\\nMonth ($ or €)</th>\n",
       "      <th>Gross\\nRental Yield</th>\n",
       "    </tr>\n",
       "  </thead>\n",
       "  <tbody>\n",
       "    <tr>\n",
       "      <th>0</th>\n",
       "      <td>Hong Kong</td>\n",
       "      <td>$ 23,695</td>\n",
       "      <td>36x</td>\n",
       "      <td>$ 2,149</td>\n",
       "      <td>2.78%</td>\n",
       "    </tr>\n",
       "    <tr>\n",
       "      <th>1</th>\n",
       "      <td>Singapore</td>\n",
       "      <td>$ 16,120</td>\n",
       "      <td>21x</td>\n",
       "      <td>$ 5,075</td>\n",
       "      <td>4.74%</td>\n",
       "    </tr>\n",
       "    <tr>\n",
       "      <th>2</th>\n",
       "      <td>United Kingdom</td>\n",
       "      <td>$ 15,125</td>\n",
       "      <td>16x</td>\n",
       "      <td>€1,999</td>\n",
       "      <td>6.21%</td>\n",
       "    </tr>\n",
       "    <tr>\n",
       "      <th>3</th>\n",
       "      <td>France</td>\n",
       "      <td>$ 14,808</td>\n",
       "      <td>25x</td>\n",
       "      <td>€1,441</td>\n",
       "      <td>4.06%</td>\n",
       "    </tr>\n",
       "    <tr>\n",
       "      <th>4</th>\n",
       "      <td>Israel</td>\n",
       "      <td>$ 13,820</td>\n",
       "      <td>30x</td>\n",
       "      <td>$ 1,615</td>\n",
       "      <td>3.30%</td>\n",
       "    </tr>\n",
       "  </tbody>\n",
       "</table>\n",
       "</div>"
      ],
      "text/plain": [
       "     Country/City Buying Price\\nUS $ per Sq. M. Price/Rent\\nRatio (x)  \\\n",
       "0       Hong Kong                      $ 23,695                   36x   \n",
       "1       Singapore                      $ 16,120                   21x   \n",
       "2  United Kingdom                      $ 15,125                   16x   \n",
       "3          France                      $ 14,808                   25x   \n",
       "4          Israel                      $ 13,820                   30x   \n",
       "\n",
       "  Rent per\\nMonth ($ or €) Gross\\nRental Yield  \n",
       "0                  $ 2,149               2.78%  \n",
       "1                  $ 5,075               4.74%  \n",
       "2                   €1,999               6.21%  \n",
       "3                   €1,441               4.06%  \n",
       "4                  $ 1,615               3.30%  "
      ]
     },
     "execution_count": 64,
     "metadata": {},
     "output_type": "execute_result"
    }
   ],
   "source": [
    "import pandas as pd\n",
    "\n",
    "global_sqm_csv_path = r\"../data/global_sqm_prices.csv\"\n",
    "df = pd.read_csv(global_sqm_csv_path)\n",
    "df.head()"
   ]
  },
  {
   "cell_type": "markdown",
   "id": "92e64be7-0ee4-4afd-8836-c25a16a99f3d",
   "metadata": {},
   "source": [
    "##### Map country:capital city values into a new 'City' column"
   ]
  },
  {
   "cell_type": "code",
   "execution_count": 65,
   "id": "a9ff1edf-2f56-494c-b146-a5ade9d94466",
   "metadata": {},
   "outputs": [
    {
     "data": {
      "text/html": [
       "<div>\n",
       "<style scoped>\n",
       "    .dataframe tbody tr th:only-of-type {\n",
       "        vertical-align: middle;\n",
       "    }\n",
       "\n",
       "    .dataframe tbody tr th {\n",
       "        vertical-align: top;\n",
       "    }\n",
       "\n",
       "    .dataframe thead th {\n",
       "        text-align: right;\n",
       "    }\n",
       "</style>\n",
       "<table border=\"1\" class=\"dataframe\">\n",
       "  <thead>\n",
       "    <tr style=\"text-align: right;\">\n",
       "      <th></th>\n",
       "      <th>Country/City</th>\n",
       "      <th>Buying Price\\nUS $ per Sq. M.</th>\n",
       "      <th>Price/Rent\\nRatio (x)</th>\n",
       "      <th>Rent per\\nMonth ($ or €)</th>\n",
       "      <th>Gross\\nRental Yield</th>\n",
       "      <th>Capital City</th>\n",
       "    </tr>\n",
       "  </thead>\n",
       "  <tbody>\n",
       "    <tr>\n",
       "      <th>0</th>\n",
       "      <td>Hong Kong</td>\n",
       "      <td>$ 23,695</td>\n",
       "      <td>36x</td>\n",
       "      <td>$ 2,149</td>\n",
       "      <td>2.78%</td>\n",
       "      <td>NaN</td>\n",
       "    </tr>\n",
       "    <tr>\n",
       "      <th>1</th>\n",
       "      <td>Singapore</td>\n",
       "      <td>$ 16,120</td>\n",
       "      <td>21x</td>\n",
       "      <td>$ 5,075</td>\n",
       "      <td>4.74%</td>\n",
       "      <td>Singapore</td>\n",
       "    </tr>\n",
       "    <tr>\n",
       "      <th>2</th>\n",
       "      <td>United Kingdom</td>\n",
       "      <td>$ 15,125</td>\n",
       "      <td>16x</td>\n",
       "      <td>€1,999</td>\n",
       "      <td>6.21%</td>\n",
       "      <td>London</td>\n",
       "    </tr>\n",
       "    <tr>\n",
       "      <th>3</th>\n",
       "      <td>France</td>\n",
       "      <td>$ 14,808</td>\n",
       "      <td>25x</td>\n",
       "      <td>€1,441</td>\n",
       "      <td>4.06%</td>\n",
       "      <td>Paris</td>\n",
       "    </tr>\n",
       "    <tr>\n",
       "      <th>4</th>\n",
       "      <td>Israel</td>\n",
       "      <td>$ 13,820</td>\n",
       "      <td>30x</td>\n",
       "      <td>$ 1,615</td>\n",
       "      <td>3.30%</td>\n",
       "      <td>Jerusalem (very limited international recognit...</td>\n",
       "    </tr>\n",
       "  </tbody>\n",
       "</table>\n",
       "</div>"
      ],
      "text/plain": [
       "     Country/City Buying Price\\nUS $ per Sq. M. Price/Rent\\nRatio (x)  \\\n",
       "0       Hong Kong                      $ 23,695                   36x   \n",
       "1       Singapore                      $ 16,120                   21x   \n",
       "2  United Kingdom                      $ 15,125                   16x   \n",
       "3          France                      $ 14,808                   25x   \n",
       "4          Israel                      $ 13,820                   30x   \n",
       "\n",
       "  Rent per\\nMonth ($ or €) Gross\\nRental Yield  \\\n",
       "0                  $ 2,149               2.78%   \n",
       "1                  $ 5,075               4.74%   \n",
       "2                   €1,999               6.21%   \n",
       "3                   €1,441               4.06%   \n",
       "4                  $ 1,615               3.30%   \n",
       "\n",
       "                                        Capital City  \n",
       "0                                                NaN  \n",
       "1                                          Singapore  \n",
       "2                                             London  \n",
       "3                                              Paris  \n",
       "4  Jerusalem (very limited international recognit...  "
      ]
     },
     "execution_count": 65,
     "metadata": {},
     "output_type": "execute_result"
    }
   ],
   "source": [
    "df['Capital City'] = df['Country/City'].map(country_capital_dict)\n",
    "df.head()"
   ]
  },
  {
   "cell_type": "markdown",
   "id": "adf7f15e-cc21-4f32-9910-562eb8a447e9",
   "metadata": {},
   "source": [
    "##### Check if values have been mapped correctly"
   ]
  },
  {
   "cell_type": "code",
   "execution_count": 66,
   "id": "d20ed65e-5d47-461c-8ae9-35712ba57fa1",
   "metadata": {},
   "outputs": [
    {
     "data": {
      "text/html": [
       "<div>\n",
       "<style scoped>\n",
       "    .dataframe tbody tr th:only-of-type {\n",
       "        vertical-align: middle;\n",
       "    }\n",
       "\n",
       "    .dataframe tbody tr th {\n",
       "        vertical-align: top;\n",
       "    }\n",
       "\n",
       "    .dataframe thead th {\n",
       "        text-align: right;\n",
       "    }\n",
       "</style>\n",
       "<table border=\"1\" class=\"dataframe\">\n",
       "  <thead>\n",
       "    <tr style=\"text-align: right;\">\n",
       "      <th></th>\n",
       "      <th>Country/City</th>\n",
       "      <th>Buying Price\\nUS $ per Sq. M.</th>\n",
       "      <th>Price/Rent\\nRatio (x)</th>\n",
       "      <th>Rent per\\nMonth ($ or €)</th>\n",
       "      <th>Gross\\nRental Yield</th>\n",
       "      <th>Capital City</th>\n",
       "    </tr>\n",
       "  </thead>\n",
       "  <tbody>\n",
       "    <tr>\n",
       "      <th>0</th>\n",
       "      <td>Hong Kong</td>\n",
       "      <td>$ 23,695</td>\n",
       "      <td>36x</td>\n",
       "      <td>$ 2,149</td>\n",
       "      <td>2.78%</td>\n",
       "      <td>NaN</td>\n",
       "    </tr>\n",
       "    <tr>\n",
       "      <th>5</th>\n",
       "      <td>Taiwan</td>\n",
       "      <td>$ 10,955</td>\n",
       "      <td>48x</td>\n",
       "      <td>$ 984</td>\n",
       "      <td>2.09%</td>\n",
       "      <td>NaN</td>\n",
       "    </tr>\n",
       "    <tr>\n",
       "      <th>22</th>\n",
       "      <td>Czech Republic</td>\n",
       "      <td>$ 5,227</td>\n",
       "      <td>26x</td>\n",
       "      <td>€928</td>\n",
       "      <td>3.88%</td>\n",
       "      <td>NaN</td>\n",
       "    </tr>\n",
       "    <tr>\n",
       "      <th>37</th>\n",
       "      <td>Puerto Rico</td>\n",
       "      <td>$ 2,700</td>\n",
       "      <td>13x</td>\n",
       "      <td>n.a.</td>\n",
       "      <td>8.05%</td>\n",
       "      <td>NaN</td>\n",
       "    </tr>\n",
       "    <tr>\n",
       "      <th>46</th>\n",
       "      <td>Turkey</td>\n",
       "      <td>$ 1,955</td>\n",
       "      <td>18x</td>\n",
       "      <td>€418</td>\n",
       "      <td>5.55%</td>\n",
       "      <td>NaN</td>\n",
       "    </tr>\n",
       "  </tbody>\n",
       "</table>\n",
       "</div>"
      ],
      "text/plain": [
       "      Country/City Buying Price\\nUS $ per Sq. M. Price/Rent\\nRatio (x)  \\\n",
       "0        Hong Kong                      $ 23,695                   36x   \n",
       "5           Taiwan                      $ 10,955                   48x   \n",
       "22  Czech Republic                       $ 5,227                   26x   \n",
       "37     Puerto Rico                       $ 2,700                   13x   \n",
       "46          Turkey                       $ 1,955                   18x   \n",
       "\n",
       "   Rent per\\nMonth ($ or €) Gross\\nRental Yield Capital City  \n",
       "0                   $ 2,149               2.78%          NaN  \n",
       "5                     $ 984               2.09%          NaN  \n",
       "22                     €928               3.88%          NaN  \n",
       "37                     n.a.               8.05%          NaN  \n",
       "46                     €418               5.55%          NaN  "
      ]
     },
     "execution_count": 66,
     "metadata": {},
     "output_type": "execute_result"
    }
   ],
   "source": [
    "df[df['Capital City'].isna()]"
   ]
  },
  {
   "cell_type": "markdown",
   "id": "200fe6ec-a528-438a-a98a-c0d8e41e817c",
   "metadata": {},
   "source": [
    "We can see here that five countries have failed to map. After analysing the country_capital data this due to various reasons (e.g. Country not recognised and hence no capital, difference in spelling).\n",
    "\n",
    "Due to the small amount of issues I will manually add these capital names."
   ]
  },
  {
   "cell_type": "code",
   "execution_count": 67,
   "id": "78fca79e-f93c-47e9-b4bc-a21fccb57654",
   "metadata": {},
   "outputs": [],
   "source": [
    "df.loc[df['Country/City'] == 'Hong Kong', 'Capital City'] = 'Hong Kong'\n",
    "df.loc[df['Country/City'] == 'Taiwan', 'Capital City'] = 'Taipei'\n",
    "df.loc[df['Country/City'] == 'Puerto Rico', 'Capital City'] = 'San Juan'\n",
    "df.loc[df['Country/City'] == 'Czech Republic', 'Capital City'] = 'Prague'\n",
    "df.loc[df['Country/City'] == 'Turkey', 'Capital City'] = 'Ankara'"
   ]
  },
  {
   "cell_type": "code",
   "execution_count": 69,
   "id": "27f00dcb-7624-40bf-a437-2b86a2ca48ae",
   "metadata": {},
   "outputs": [
    {
     "data": {
      "text/html": [
       "<div>\n",
       "<style scoped>\n",
       "    .dataframe tbody tr th:only-of-type {\n",
       "        vertical-align: middle;\n",
       "    }\n",
       "\n",
       "    .dataframe tbody tr th {\n",
       "        vertical-align: top;\n",
       "    }\n",
       "\n",
       "    .dataframe thead th {\n",
       "        text-align: right;\n",
       "    }\n",
       "</style>\n",
       "<table border=\"1\" class=\"dataframe\">\n",
       "  <thead>\n",
       "    <tr style=\"text-align: right;\">\n",
       "      <th></th>\n",
       "      <th>Country/City</th>\n",
       "      <th>Buying Price\\nUS $ per Sq. M.</th>\n",
       "      <th>Price/Rent\\nRatio (x)</th>\n",
       "      <th>Rent per\\nMonth ($ or €)</th>\n",
       "      <th>Gross\\nRental Yield</th>\n",
       "      <th>Capital City</th>\n",
       "    </tr>\n",
       "  </thead>\n",
       "  <tbody>\n",
       "  </tbody>\n",
       "</table>\n",
       "</div>"
      ],
      "text/plain": [
       "Empty DataFrame\n",
       "Columns: [Country/City, Buying Price\n",
       "US $ per Sq. M., Price/Rent\n",
       "Ratio (x), Rent per\n",
       "Month ($ or €), Gross\n",
       "Rental Yield, Capital City]\n",
       "Index: []"
      ]
     },
     "execution_count": 69,
     "metadata": {},
     "output_type": "execute_result"
    }
   ],
   "source": [
    "df[df['Capital City'].isna()]"
   ]
  },
  {
   "cell_type": "code",
   "execution_count": null,
   "id": "88baea5e-5332-4198-a242-510313d5374e",
   "metadata": {},
   "outputs": [],
   "source": []
  }
 ],
 "metadata": {
  "kernelspec": {
   "display_name": "Python 3 (ipykernel)",
   "language": "python",
   "name": "python3"
  },
  "language_info": {
   "codemirror_mode": {
    "name": "ipython",
    "version": 3
   },
   "file_extension": ".py",
   "mimetype": "text/x-python",
   "name": "python",
   "nbconvert_exporter": "python",
   "pygments_lexer": "ipython3",
   "version": "3.8.10"
  }
 },
 "nbformat": 4,
 "nbformat_minor": 5
}
