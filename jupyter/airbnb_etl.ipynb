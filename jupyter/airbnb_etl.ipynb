{
 "cells": [
  {
   "cell_type": "markdown",
   "id": "ad698acb-d3c1-495a-951c-fb518adce664",
   "metadata": {},
   "source": [
    "If haven't already downloaded the aiabnb data, run `insideairbnb.py` in the `download_tools` directory"
   ]
  },
  {
   "cell_type": "code",
   "execution_count": 128,
   "id": "9e6a5493-22f6-452a-91cc-57238fd31d48",
   "metadata": {},
   "outputs": [
    {
     "data": {
      "text/plain": [
       "['riga_latvia_2023-06-29_listings.csv.gz',\n",
       " 'prague_czech-republic_2023-06-24_listings.csv.gz',\n",
       " 'brussels_belgium_2023-06-24_listings.csv.gz',\n",
       " 'london_united-kingdom_2023-06-08_listings.csv.gz',\n",
       " 'singapore_singapore_2023-06-28_listings.csv.gz',\n",
       " 'bangkok_thailand_2023-06-26_listings.csv.gz',\n",
       " 'santiago_chile_2023-06-28_listings.csv.gz',\n",
       " 'paris_france_2023-06-06_listings.csv.gz',\n",
       " 'rome_italy_2023-06-10_listings.csv.gz',\n",
       " 'taipei_taiwan_2023-06-30_listings.csv.gz',\n",
       " 'berlin_germany_2023-06-22_listings.csv.gz',\n",
       " 'vienna_austria_2023-06-10_listings.csv.gz',\n",
       " 'dublin_ireland_2023-06-10_listings.csv.gz',\n",
       " 'athens_greece_2023-06-25_listings.csv.gz',\n",
       " 'oslo_norway_2023-06-29_listings.csv.gz',\n",
       " 'amsterdam_the-netherlands_2023-06-05_listings.csv.gz',\n",
       " 'copenhagen_denmark_2023-06-29_listings.csv.gz',\n",
       " 'stockholm_sweden_2023-06-29_listings.csv.gz',\n",
       " 'lisbon_portugal_2023-06-12_listings.csv.gz',\n",
       " 'madrid_spain_2023-06-10_listings.csv.gz',\n",
       " 'tokyo_japan_2023-06-29_listings.csv.gz']"
      ]
     },
     "execution_count": 128,
     "metadata": {},
     "output_type": "execute_result"
    }
   ],
   "source": [
    "import os\n",
    "\n",
    "data_dir = r\"../data/listings/\"\n",
    "file_name_list = os.listdir(data_dir)\n",
    "file_name_list"
   ]
  },
  {
   "cell_type": "code",
   "execution_count": 129,
   "id": "cc6af0a6-6339-48f2-9306-39ee393f6063",
   "metadata": {},
   "outputs": [
    {
     "name": "stdout",
     "output_type": "stream",
     "text": [
      "riga latvia 2023-06-29\n"
     ]
    }
   ],
   "source": [
    "city, country, data_date, _ = file_name.split('_')\n",
    "print(city, country, date)"
   ]
  },
  {
   "cell_type": "markdown",
   "id": "3530d097-08d3-4377-897c-01c2f49a1c09",
   "metadata": {},
   "source": [
    "##  Get the data"
   ]
  },
  {
   "cell_type": "code",
   "execution_count": 130,
   "id": "42513902-0ce1-4d5e-8c05-6b5df2e1febd",
   "metadata": {},
   "outputs": [
    {
     "data": {
      "text/html": [
       "<div>\n",
       "<style scoped>\n",
       "    .dataframe tbody tr th:only-of-type {\n",
       "        vertical-align: middle;\n",
       "    }\n",
       "\n",
       "    .dataframe tbody tr th {\n",
       "        vertical-align: top;\n",
       "    }\n",
       "\n",
       "    .dataframe thead th {\n",
       "        text-align: right;\n",
       "    }\n",
       "</style>\n",
       "<table border=\"1\" class=\"dataframe\">\n",
       "  <thead>\n",
       "    <tr style=\"text-align: right;\">\n",
       "      <th></th>\n",
       "      <th>id</th>\n",
       "      <th>listing_url</th>\n",
       "      <th>scrape_id</th>\n",
       "      <th>last_scraped</th>\n",
       "      <th>source</th>\n",
       "      <th>name</th>\n",
       "      <th>description</th>\n",
       "      <th>neighborhood_overview</th>\n",
       "      <th>picture_url</th>\n",
       "      <th>host_id</th>\n",
       "      <th>...</th>\n",
       "      <th>review_scores_communication</th>\n",
       "      <th>review_scores_location</th>\n",
       "      <th>review_scores_value</th>\n",
       "      <th>license</th>\n",
       "      <th>instant_bookable</th>\n",
       "      <th>calculated_host_listings_count</th>\n",
       "      <th>calculated_host_listings_count_entire_homes</th>\n",
       "      <th>calculated_host_listings_count_private_rooms</th>\n",
       "      <th>calculated_host_listings_count_shared_rooms</th>\n",
       "      <th>reviews_per_month</th>\n",
       "    </tr>\n",
       "  </thead>\n",
       "  <tbody>\n",
       "    <tr>\n",
       "      <th>0</th>\n",
       "      <td>21134</td>\n",
       "      <td>https://www.airbnb.com/rooms/21134</td>\n",
       "      <td>20230629191658</td>\n",
       "      <td>2023-06-29</td>\n",
       "      <td>city scrape</td>\n",
       "      <td>Rental unit in Riga · ★4.75 · 1 bedroom · 1 be...</td>\n",
       "      <td>Cozy room in a shared flat with to other peopl...</td>\n",
       "      <td>The flat is in the urban, a bit bohemian centr...</td>\n",
       "      <td>https://a0.muscache.com/pictures/1850842/2a1b8...</td>\n",
       "      <td>80446</td>\n",
       "      <td>...</td>\n",
       "      <td>4.90</td>\n",
       "      <td>4.58</td>\n",
       "      <td>4.83</td>\n",
       "      <td>NaN</td>\n",
       "      <td>f</td>\n",
       "      <td>2</td>\n",
       "      <td>0</td>\n",
       "      <td>2</td>\n",
       "      <td>0</td>\n",
       "      <td>0.51</td>\n",
       "    </tr>\n",
       "    <tr>\n",
       "      <th>1</th>\n",
       "      <td>120480</td>\n",
       "      <td>https://www.airbnb.com/rooms/120480</td>\n",
       "      <td>20230629191658</td>\n",
       "      <td>2023-06-29</td>\n",
       "      <td>city scrape</td>\n",
       "      <td>Rental unit in Riga · ★4.58 · 2 bedrooms · 2 b...</td>\n",
       "      <td>Apartment \"Magic of Riga History\" is ideal for...</td>\n",
       "      <td>NaN</td>\n",
       "      <td>https://a0.muscache.com/pictures/1858364/affbf...</td>\n",
       "      <td>606352</td>\n",
       "      <td>...</td>\n",
       "      <td>4.89</td>\n",
       "      <td>4.94</td>\n",
       "      <td>4.76</td>\n",
       "      <td>NaN</td>\n",
       "      <td>f</td>\n",
       "      <td>1</td>\n",
       "      <td>1</td>\n",
       "      <td>0</td>\n",
       "      <td>0</td>\n",
       "      <td>3.64</td>\n",
       "    </tr>\n",
       "    <tr>\n",
       "      <th>2</th>\n",
       "      <td>253753</td>\n",
       "      <td>https://www.airbnb.com/rooms/253753</td>\n",
       "      <td>20230629191658</td>\n",
       "      <td>2023-06-29</td>\n",
       "      <td>previous scrape</td>\n",
       "      <td>Rental unit in Riga · ★4.92 · 1 bedroom · 2 be...</td>\n",
       "      <td>Fireplace, free WIFI, kitchen, TV, DVD,&lt;br /&gt;&lt;...</td>\n",
       "      <td>NaN</td>\n",
       "      <td>https://a0.muscache.com/pictures/2508228/f55e6...</td>\n",
       "      <td>1332828</td>\n",
       "      <td>...</td>\n",
       "      <td>4.94</td>\n",
       "      <td>4.89</td>\n",
       "      <td>4.89</td>\n",
       "      <td>NaN</td>\n",
       "      <td>f</td>\n",
       "      <td>1</td>\n",
       "      <td>1</td>\n",
       "      <td>0</td>\n",
       "      <td>0</td>\n",
       "      <td>0.87</td>\n",
       "    </tr>\n",
       "    <tr>\n",
       "      <th>3</th>\n",
       "      <td>260539</td>\n",
       "      <td>https://www.airbnb.com/rooms/260539</td>\n",
       "      <td>20230629191658</td>\n",
       "      <td>2023-06-29</td>\n",
       "      <td>city scrape</td>\n",
       "      <td>Rental unit in Riga · ★4.58 · 2 bedrooms · 5 b...</td>\n",
       "      <td>Cosy yet spacious 5th floor apartment in the c...</td>\n",
       "      <td>Apartment is located in the centre, Old town i...</td>\n",
       "      <td>https://a0.muscache.com/pictures/miso/Hosting-...</td>\n",
       "      <td>1297653</td>\n",
       "      <td>...</td>\n",
       "      <td>4.78</td>\n",
       "      <td>4.44</td>\n",
       "      <td>4.68</td>\n",
       "      <td>NaN</td>\n",
       "      <td>f</td>\n",
       "      <td>2</td>\n",
       "      <td>2</td>\n",
       "      <td>0</td>\n",
       "      <td>0</td>\n",
       "      <td>0.34</td>\n",
       "    </tr>\n",
       "    <tr>\n",
       "      <th>4</th>\n",
       "      <td>275688</td>\n",
       "      <td>https://www.airbnb.com/rooms/275688</td>\n",
       "      <td>20230629191658</td>\n",
       "      <td>2023-06-29</td>\n",
       "      <td>city scrape</td>\n",
       "      <td>Rental unit in Riga · ★4.69 · 1 bedroom · 3 be...</td>\n",
       "      <td>Stylish cozy 1-bedroom apartment in renovated ...</td>\n",
       "      <td>Apartment located in the heart of Old Riga, th...</td>\n",
       "      <td>https://a0.muscache.com/pictures/a664ffa0-5d7f...</td>\n",
       "      <td>1441076</td>\n",
       "      <td>...</td>\n",
       "      <td>4.75</td>\n",
       "      <td>4.88</td>\n",
       "      <td>4.44</td>\n",
       "      <td>NaN</td>\n",
       "      <td>t</td>\n",
       "      <td>9</td>\n",
       "      <td>9</td>\n",
       "      <td>0</td>\n",
       "      <td>0</td>\n",
       "      <td>0.13</td>\n",
       "    </tr>\n",
       "  </tbody>\n",
       "</table>\n",
       "<p>5 rows × 75 columns</p>\n",
       "</div>"
      ],
      "text/plain": [
       "       id                          listing_url       scrape_id last_scraped  \\\n",
       "0   21134   https://www.airbnb.com/rooms/21134  20230629191658   2023-06-29   \n",
       "1  120480  https://www.airbnb.com/rooms/120480  20230629191658   2023-06-29   \n",
       "2  253753  https://www.airbnb.com/rooms/253753  20230629191658   2023-06-29   \n",
       "3  260539  https://www.airbnb.com/rooms/260539  20230629191658   2023-06-29   \n",
       "4  275688  https://www.airbnb.com/rooms/275688  20230629191658   2023-06-29   \n",
       "\n",
       "            source                                               name  \\\n",
       "0      city scrape  Rental unit in Riga · ★4.75 · 1 bedroom · 1 be...   \n",
       "1      city scrape  Rental unit in Riga · ★4.58 · 2 bedrooms · 2 b...   \n",
       "2  previous scrape  Rental unit in Riga · ★4.92 · 1 bedroom · 2 be...   \n",
       "3      city scrape  Rental unit in Riga · ★4.58 · 2 bedrooms · 5 b...   \n",
       "4      city scrape  Rental unit in Riga · ★4.69 · 1 bedroom · 3 be...   \n",
       "\n",
       "                                         description  \\\n",
       "0  Cozy room in a shared flat with to other peopl...   \n",
       "1  Apartment \"Magic of Riga History\" is ideal for...   \n",
       "2  Fireplace, free WIFI, kitchen, TV, DVD,<br /><...   \n",
       "3  Cosy yet spacious 5th floor apartment in the c...   \n",
       "4  Stylish cozy 1-bedroom apartment in renovated ...   \n",
       "\n",
       "                               neighborhood_overview  \\\n",
       "0  The flat is in the urban, a bit bohemian centr...   \n",
       "1                                                NaN   \n",
       "2                                                NaN   \n",
       "3  Apartment is located in the centre, Old town i...   \n",
       "4  Apartment located in the heart of Old Riga, th...   \n",
       "\n",
       "                                         picture_url  host_id  ...  \\\n",
       "0  https://a0.muscache.com/pictures/1850842/2a1b8...    80446  ...   \n",
       "1  https://a0.muscache.com/pictures/1858364/affbf...   606352  ...   \n",
       "2  https://a0.muscache.com/pictures/2508228/f55e6...  1332828  ...   \n",
       "3  https://a0.muscache.com/pictures/miso/Hosting-...  1297653  ...   \n",
       "4  https://a0.muscache.com/pictures/a664ffa0-5d7f...  1441076  ...   \n",
       "\n",
       "  review_scores_communication review_scores_location review_scores_value  \\\n",
       "0                        4.90                   4.58                4.83   \n",
       "1                        4.89                   4.94                4.76   \n",
       "2                        4.94                   4.89                4.89   \n",
       "3                        4.78                   4.44                4.68   \n",
       "4                        4.75                   4.88                4.44   \n",
       "\n",
       "  license instant_bookable calculated_host_listings_count  \\\n",
       "0     NaN                f                              2   \n",
       "1     NaN                f                              1   \n",
       "2     NaN                f                              1   \n",
       "3     NaN                f                              2   \n",
       "4     NaN                t                              9   \n",
       "\n",
       "  calculated_host_listings_count_entire_homes  \\\n",
       "0                                           0   \n",
       "1                                           1   \n",
       "2                                           1   \n",
       "3                                           2   \n",
       "4                                           9   \n",
       "\n",
       "  calculated_host_listings_count_private_rooms  \\\n",
       "0                                            2   \n",
       "1                                            0   \n",
       "2                                            0   \n",
       "3                                            0   \n",
       "4                                            0   \n",
       "\n",
       "  calculated_host_listings_count_shared_rooms reviews_per_month  \n",
       "0                                           0              0.51  \n",
       "1                                           0              3.64  \n",
       "2                                           0              0.87  \n",
       "3                                           0              0.34  \n",
       "4                                           0              0.13  \n",
       "\n",
       "[5 rows x 75 columns]"
      ]
     },
     "execution_count": 130,
     "metadata": {},
     "output_type": "execute_result"
    }
   ],
   "source": [
    "import pandas as pd\n",
    "\n",
    "df = pd.read_csv(data_dir + file_name)\n",
    "df.head()"
   ]
  },
  {
   "cell_type": "markdown",
   "id": "7a6d29b0-9093-4f5d-95c7-a09b9aa9caca",
   "metadata": {},
   "source": [
    "## Drop irrelevant columns"
   ]
  },
  {
   "cell_type": "code",
   "execution_count": 131,
   "id": "7a226a2e-2496-46cc-8af0-4eb14d827e28",
   "metadata": {},
   "outputs": [
    {
     "data": {
      "text/plain": [
       "Index(['id', 'listing_url', 'scrape_id', 'last_scraped', 'source', 'name',\n",
       "       'description', 'neighborhood_overview', 'picture_url', 'host_id',\n",
       "       'host_url', 'host_name', 'host_since', 'host_location', 'host_about',\n",
       "       'host_response_time', 'host_response_rate', 'host_acceptance_rate',\n",
       "       'host_is_superhost', 'host_thumbnail_url', 'host_picture_url',\n",
       "       'host_neighbourhood', 'host_listings_count',\n",
       "       'host_total_listings_count', 'host_verifications',\n",
       "       'host_has_profile_pic', 'host_identity_verified', 'neighbourhood',\n",
       "       'neighbourhood_cleansed', 'neighbourhood_group_cleansed', 'latitude',\n",
       "       'longitude', 'property_type', 'room_type', 'accommodates', 'bathrooms',\n",
       "       'bathrooms_text', 'bedrooms', 'beds', 'amenities', 'price',\n",
       "       'minimum_nights', 'maximum_nights', 'minimum_minimum_nights',\n",
       "       'maximum_minimum_nights', 'minimum_maximum_nights',\n",
       "       'maximum_maximum_nights', 'minimum_nights_avg_ntm',\n",
       "       'maximum_nights_avg_ntm', 'calendar_updated', 'has_availability',\n",
       "       'availability_30', 'availability_60', 'availability_90',\n",
       "       'availability_365', 'calendar_last_scraped', 'number_of_reviews',\n",
       "       'number_of_reviews_ltm', 'number_of_reviews_l30d', 'first_review',\n",
       "       'last_review', 'review_scores_rating', 'review_scores_accuracy',\n",
       "       'review_scores_cleanliness', 'review_scores_checkin',\n",
       "       'review_scores_communication', 'review_scores_location',\n",
       "       'review_scores_value', 'license', 'instant_bookable',\n",
       "       'calculated_host_listings_count',\n",
       "       'calculated_host_listings_count_entire_homes',\n",
       "       'calculated_host_listings_count_private_rooms',\n",
       "       'calculated_host_listings_count_shared_rooms', 'reviews_per_month'],\n",
       "      dtype='object')"
      ]
     },
     "execution_count": 131,
     "metadata": {},
     "output_type": "execute_result"
    }
   ],
   "source": [
    "df.columns"
   ]
  },
  {
   "cell_type": "code",
   "execution_count": 132,
   "id": "cbea6e0f-b34c-4987-a018-700b2b0f3ffa",
   "metadata": {},
   "outputs": [
    {
     "data": {
      "text/html": [
       "<div>\n",
       "<style scoped>\n",
       "    .dataframe tbody tr th:only-of-type {\n",
       "        vertical-align: middle;\n",
       "    }\n",
       "\n",
       "    .dataframe tbody tr th {\n",
       "        vertical-align: top;\n",
       "    }\n",
       "\n",
       "    .dataframe thead th {\n",
       "        text-align: right;\n",
       "    }\n",
       "</style>\n",
       "<table border=\"1\" class=\"dataframe\">\n",
       "  <thead>\n",
       "    <tr style=\"text-align: right;\">\n",
       "      <th></th>\n",
       "      <th>id</th>\n",
       "      <th>property_type</th>\n",
       "      <th>bedrooms</th>\n",
       "      <th>price</th>\n",
       "    </tr>\n",
       "  </thead>\n",
       "  <tbody>\n",
       "    <tr>\n",
       "      <th>0</th>\n",
       "      <td>21134</td>\n",
       "      <td>Private room in rental unit</td>\n",
       "      <td>NaN</td>\n",
       "      <td>$10.00</td>\n",
       "    </tr>\n",
       "    <tr>\n",
       "      <th>1</th>\n",
       "      <td>120480</td>\n",
       "      <td>Entire rental unit</td>\n",
       "      <td>2.0</td>\n",
       "      <td>$56.00</td>\n",
       "    </tr>\n",
       "    <tr>\n",
       "      <th>2</th>\n",
       "      <td>253753</td>\n",
       "      <td>Entire rental unit</td>\n",
       "      <td>1.0</td>\n",
       "      <td>$58.00</td>\n",
       "    </tr>\n",
       "    <tr>\n",
       "      <th>3</th>\n",
       "      <td>260539</td>\n",
       "      <td>Entire rental unit</td>\n",
       "      <td>2.0</td>\n",
       "      <td>$80.00</td>\n",
       "    </tr>\n",
       "    <tr>\n",
       "      <th>4</th>\n",
       "      <td>275688</td>\n",
       "      <td>Entire rental unit</td>\n",
       "      <td>1.0</td>\n",
       "      <td>$75.00</td>\n",
       "    </tr>\n",
       "  </tbody>\n",
       "</table>\n",
       "</div>"
      ],
      "text/plain": [
       "       id                property_type  bedrooms   price\n",
       "0   21134  Private room in rental unit       NaN  $10.00\n",
       "1  120480           Entire rental unit       2.0  $56.00\n",
       "2  253753           Entire rental unit       1.0  $58.00\n",
       "3  260539           Entire rental unit       2.0  $80.00\n",
       "4  275688           Entire rental unit       1.0  $75.00"
      ]
     },
     "execution_count": 132,
     "metadata": {},
     "output_type": "execute_result"
    }
   ],
   "source": [
    "df = df[['id', 'property_type', 'bedrooms', 'price']]\n",
    "df.head()"
   ]
  },
  {
   "cell_type": "markdown",
   "id": "a021af0c-37c6-4bfd-bacd-a864e68aa8d3",
   "metadata": {},
   "source": [
    "## Filter for entire properties that have exactly 2 bedrooms"
   ]
  },
  {
   "cell_type": "code",
   "execution_count": 133,
   "id": "6bc50f36-d00d-433f-b40d-1cd477698d7f",
   "metadata": {},
   "outputs": [
    {
     "data": {
      "text/plain": [
       "{'Boat',\n",
       " 'Camper/RV',\n",
       " 'Campsite',\n",
       " 'Casa particular',\n",
       " 'Dome',\n",
       " 'Entire bungalow',\n",
       " 'Entire cabin',\n",
       " 'Entire condo',\n",
       " 'Entire cottage',\n",
       " 'Entire guest suite',\n",
       " 'Entire guesthouse',\n",
       " 'Entire home',\n",
       " 'Entire home/apt',\n",
       " 'Entire loft',\n",
       " 'Entire place',\n",
       " 'Entire rental unit',\n",
       " 'Entire serviced apartment',\n",
       " 'Entire townhouse',\n",
       " 'Entire vacation home',\n",
       " 'Entire villa',\n",
       " 'Houseboat',\n",
       " 'Private room',\n",
       " 'Private room in bed and breakfast',\n",
       " 'Private room in cabin',\n",
       " 'Private room in camper/rv',\n",
       " 'Private room in condo',\n",
       " 'Private room in guest suite',\n",
       " 'Private room in guesthouse',\n",
       " 'Private room in home',\n",
       " 'Private room in hostel',\n",
       " 'Private room in loft',\n",
       " 'Private room in rental unit',\n",
       " 'Private room in serviced apartment',\n",
       " 'Private room in tipi',\n",
       " 'Room in aparthotel',\n",
       " 'Room in boutique hotel',\n",
       " 'Room in hotel',\n",
       " 'Room in serviced apartment',\n",
       " 'Shared room in bed and breakfast',\n",
       " 'Shared room in home',\n",
       " 'Shared room in hostel',\n",
       " 'Shared room in rental unit',\n",
       " 'Shared room in serviced apartment',\n",
       " 'Tent',\n",
       " 'Tiny home'}"
      ]
     },
     "execution_count": 133,
     "metadata": {},
     "output_type": "execute_result"
    }
   ],
   "source": [
    "set(df['property_type'])"
   ]
  },
  {
   "cell_type": "code",
   "execution_count": 134,
   "id": "3d133556-77c4-463b-8fc3-d536f9715253",
   "metadata": {},
   "outputs": [],
   "source": [
    "property_types_to_keep = ['Entire bungalow', \n",
    "                          'Entire condo', \n",
    "                          'Entire cottage', \n",
    "                          'Entire guesthouse', \n",
    "                          'Entire home', \n",
    "                          'Entire home/apt', \n",
    "                          'Entire place', \n",
    "                          'Entire rental unit',\n",
    "                          'Entire serviced apartment',\n",
    "                          'Entire townhouse',\n",
    "                          'Entire vacation home',\n",
    "                          'Entire villa']\n",
    "\n",
    "num_bedrooms_to_keep = 2"
   ]
  },
  {
   "cell_type": "code",
   "execution_count": 135,
   "id": "2544db6f-9640-4047-9663-aeef0ca07663",
   "metadata": {},
   "outputs": [
    {
     "data": {
      "text/html": [
       "<div>\n",
       "<style scoped>\n",
       "    .dataframe tbody tr th:only-of-type {\n",
       "        vertical-align: middle;\n",
       "    }\n",
       "\n",
       "    .dataframe tbody tr th {\n",
       "        vertical-align: top;\n",
       "    }\n",
       "\n",
       "    .dataframe thead th {\n",
       "        text-align: right;\n",
       "    }\n",
       "</style>\n",
       "<table border=\"1\" class=\"dataframe\">\n",
       "  <thead>\n",
       "    <tr style=\"text-align: right;\">\n",
       "      <th></th>\n",
       "      <th>id</th>\n",
       "      <th>property_type</th>\n",
       "      <th>bedrooms</th>\n",
       "      <th>price</th>\n",
       "    </tr>\n",
       "  </thead>\n",
       "  <tbody>\n",
       "    <tr>\n",
       "      <th>1</th>\n",
       "      <td>120480</td>\n",
       "      <td>Entire rental unit</td>\n",
       "      <td>2.0</td>\n",
       "      <td>$56.00</td>\n",
       "    </tr>\n",
       "    <tr>\n",
       "      <th>3</th>\n",
       "      <td>260539</td>\n",
       "      <td>Entire rental unit</td>\n",
       "      <td>2.0</td>\n",
       "      <td>$80.00</td>\n",
       "    </tr>\n",
       "    <tr>\n",
       "      <th>8</th>\n",
       "      <td>355961</td>\n",
       "      <td>Entire rental unit</td>\n",
       "      <td>2.0</td>\n",
       "      <td>$143.00</td>\n",
       "    </tr>\n",
       "    <tr>\n",
       "      <th>17</th>\n",
       "      <td>569469</td>\n",
       "      <td>Entire rental unit</td>\n",
       "      <td>2.0</td>\n",
       "      <td>$80.00</td>\n",
       "    </tr>\n",
       "    <tr>\n",
       "      <th>24</th>\n",
       "      <td>716025</td>\n",
       "      <td>Entire rental unit</td>\n",
       "      <td>2.0</td>\n",
       "      <td>$48.00</td>\n",
       "    </tr>\n",
       "  </tbody>\n",
       "</table>\n",
       "</div>"
      ],
      "text/plain": [
       "        id       property_type  bedrooms    price\n",
       "1   120480  Entire rental unit       2.0   $56.00\n",
       "3   260539  Entire rental unit       2.0   $80.00\n",
       "8   355961  Entire rental unit       2.0  $143.00\n",
       "17  569469  Entire rental unit       2.0   $80.00\n",
       "24  716025  Entire rental unit       2.0   $48.00"
      ]
     },
     "execution_count": 135,
     "metadata": {},
     "output_type": "execute_result"
    }
   ],
   "source": [
    "df = df[(df['property_type'].isin(property_types_to_keep)) & (df['bedrooms'] == num_bedrooms_to_keep)]\n",
    "df.head()"
   ]
  },
  {
   "cell_type": "markdown",
   "id": "ac063ea7-8c63-4c35-bef3-921d48939331",
   "metadata": {},
   "source": [
    "##  Clean price data"
   ]
  },
  {
   "cell_type": "code",
   "execution_count": 138,
   "id": "cc4ec103-d8d0-4405-8a13-fa00d21c8fa3",
   "metadata": {},
   "outputs": [
    {
     "data": {
      "text/plain": [
       "str"
      ]
     },
     "execution_count": 138,
     "metadata": {},
     "output_type": "execute_result"
    }
   ],
   "source": [
    "type(df.loc[1, 'price'])"
   ]
  },
  {
   "cell_type": "code",
   "execution_count": 139,
   "id": "13b00729-dd35-4aab-9840-a4eba7ce45a5",
   "metadata": {},
   "outputs": [],
   "source": [
    "def convert_str_price_to_int(val):\n",
    "    return float(''.join(val[1:].split(',')))\n",
    "\n",
    "def is_usd(val):\n",
    "    if val[0] == '$':\n",
    "        return True\n",
    "    else:\n",
    "        raise ValueError(\"Price is not USD\", val)\n",
    "    \n",
    "def get_usd_value_for_row_element(row, column_name):\n",
    "    try:\n",
    "        if is_usd(row[column_name]):\n",
    "            result = convert_str_price_to_int(row[column_name])\n",
    "        return result\n",
    "    except ValueError as e:\n",
    "        print(f\"Exception occurred at element '{column_name}' in row: \\n{row}\")\n",
    "        print(\"Error:\", e)\n",
    "        return None  # Return a value or indicator of failure"
   ]
  },
  {
   "cell_type": "code",
   "execution_count": 140,
   "id": "54b9b3f6-f542-4590-969b-f14b1adb5345",
   "metadata": {},
   "outputs": [
    {
     "data": {
      "text/html": [
       "<div>\n",
       "<style scoped>\n",
       "    .dataframe tbody tr th:only-of-type {\n",
       "        vertical-align: middle;\n",
       "    }\n",
       "\n",
       "    .dataframe tbody tr th {\n",
       "        vertical-align: top;\n",
       "    }\n",
       "\n",
       "    .dataframe thead th {\n",
       "        text-align: right;\n",
       "    }\n",
       "</style>\n",
       "<table border=\"1\" class=\"dataframe\">\n",
       "  <thead>\n",
       "    <tr style=\"text-align: right;\">\n",
       "      <th></th>\n",
       "      <th>id</th>\n",
       "      <th>property_type</th>\n",
       "      <th>bedrooms</th>\n",
       "      <th>price_per_night_usd</th>\n",
       "    </tr>\n",
       "  </thead>\n",
       "  <tbody>\n",
       "    <tr>\n",
       "      <th>1</th>\n",
       "      <td>120480</td>\n",
       "      <td>Entire rental unit</td>\n",
       "      <td>2.0</td>\n",
       "      <td>56.0</td>\n",
       "    </tr>\n",
       "    <tr>\n",
       "      <th>3</th>\n",
       "      <td>260539</td>\n",
       "      <td>Entire rental unit</td>\n",
       "      <td>2.0</td>\n",
       "      <td>80.0</td>\n",
       "    </tr>\n",
       "    <tr>\n",
       "      <th>8</th>\n",
       "      <td>355961</td>\n",
       "      <td>Entire rental unit</td>\n",
       "      <td>2.0</td>\n",
       "      <td>143.0</td>\n",
       "    </tr>\n",
       "    <tr>\n",
       "      <th>17</th>\n",
       "      <td>569469</td>\n",
       "      <td>Entire rental unit</td>\n",
       "      <td>2.0</td>\n",
       "      <td>80.0</td>\n",
       "    </tr>\n",
       "    <tr>\n",
       "      <th>24</th>\n",
       "      <td>716025</td>\n",
       "      <td>Entire rental unit</td>\n",
       "      <td>2.0</td>\n",
       "      <td>48.0</td>\n",
       "    </tr>\n",
       "  </tbody>\n",
       "</table>\n",
       "</div>"
      ],
      "text/plain": [
       "        id       property_type  bedrooms  price_per_night_usd\n",
       "1   120480  Entire rental unit       2.0                 56.0\n",
       "3   260539  Entire rental unit       2.0                 80.0\n",
       "8   355961  Entire rental unit       2.0                143.0\n",
       "17  569469  Entire rental unit       2.0                 80.0\n",
       "24  716025  Entire rental unit       2.0                 48.0"
      ]
     },
     "execution_count": 140,
     "metadata": {},
     "output_type": "execute_result"
    }
   ],
   "source": [
    "df['price'] = df.apply(get_usd_value_for_row_element, args=['price'], axis=1)\n",
    "df = df.rename(columns={'price': 'price_per_night_usd'})\n",
    "df.head()"
   ]
  },
  {
   "cell_type": "markdown",
   "id": "01519c7f-de23-4b11-be1d-86831f6c4b44",
   "metadata": {},
   "source": [
    "## Calculate average price"
   ]
  },
  {
   "cell_type": "code",
   "execution_count": 141,
   "id": "d5463c2b-3c28-453b-bb46-8b51195af90f",
   "metadata": {},
   "outputs": [
    {
     "data": {
      "text/plain": [
       "101"
      ]
     },
     "execution_count": 141,
     "metadata": {},
     "output_type": "execute_result"
    }
   ],
   "source": [
    "avg_price_per_night_usd = round(df.price_per_night_usd.mean())\n",
    "avg_price_per_night_usd"
   ]
  },
  {
   "cell_type": "code",
   "execution_count": 147,
   "id": "17f2277f-f0b2-463d-825b-5f01e6db44d6",
   "metadata": {},
   "outputs": [
    {
     "data": {
      "text/plain": [
       "486"
      ]
     },
     "execution_count": 147,
     "metadata": {},
     "output_type": "execute_result"
    }
   ],
   "source": [
    "listings_contributing_to_average = df.price_per_night_usd.count()\n",
    "listings_contributing_to_average"
   ]
  },
  {
   "cell_type": "markdown",
   "id": "f0bf69a5-6771-479c-9c69-1c5b50f98430",
   "metadata": {},
   "source": [
    "## Prepare values to write to DB"
   ]
  },
  {
   "cell_type": "code",
   "execution_count": 148,
   "id": "89e67227-cb14-4199-a9b3-ab5b6d68750d",
   "metadata": {},
   "outputs": [
    {
     "data": {
      "text/plain": [
       "{'city': 'riga',\n",
       " 'country': 'latvia',\n",
       " 'bedrooms': 2,\n",
       " 'avg_price_per_night_usd': 101,\n",
       " 'listing_count': 486,\n",
       " 'data_source_url': 'http://insideairbnb.com/get-the-data/',\n",
       " 'data_source_data': '2023-06-29'}"
      ]
     },
     "execution_count": 148,
     "metadata": {},
     "output_type": "execute_result"
    }
   ],
   "source": [
    "to_write_to_db = {\n",
    "    'city': city,\n",
    "    'country': country,\n",
    "    'bedrooms': num_bedrooms_to_keep,\n",
    "    'avg_price_per_night_usd': avg_price_per_night_usd,\n",
    "    'listing_count': entries_contributing_to_average,\n",
    "    'data_source_url': inside_airbnb_url,\n",
    "    'data_source_data': data_date\n",
    "}\n",
    "to_write_to_db"
   ]
  }
 ],
 "metadata": {
  "kernelspec": {
   "display_name": "Python 3 (ipykernel)",
   "language": "python",
   "name": "python3"
  },
  "language_info": {
   "codemirror_mode": {
    "name": "ipython",
    "version": 3
   },
   "file_extension": ".py",
   "mimetype": "text/x-python",
   "name": "python",
   "nbconvert_exporter": "python",
   "pygments_lexer": "ipython3",
   "version": "3.8.10"
  }
 },
 "nbformat": 4,
 "nbformat_minor": 5
}
