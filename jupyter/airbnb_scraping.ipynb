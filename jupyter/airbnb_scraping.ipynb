{
 "cells": [
  {
   "cell_type": "markdown",
   "id": "10356a29-3c27-41c3-9bdd-5e424d24eda5",
   "metadata": {},
   "source": [
    "## Get capital cities used in Global Property SQM data\n",
    "The Airbnb data has more cities than in the global property guide so instead of downloading all the airbnb data sets, I will limit it to cities contained within the sqm data."
   ]
  },
  {
   "cell_type": "code",
   "execution_count": 86,
   "id": "ac32c318-7787-40ce-a9ea-4a71cd6b38b4",
   "metadata": {
    "scrolled": true
   },
   "outputs": [],
   "source": [
    "import csv\n",
    "import pandas as pd\n",
    "\n",
    "capital_city_csv_path = r\"data/country_capital_city.csv\"\n",
    "global_sqm_csv_path = r\"data/global_sqm_prices.csv\"\n",
    "\n",
    "with open(capital_city_csv_path, 'r') as csv_file:\n",
    "    csv_reader = csv.DictReader(csv_file)\n",
    "    country_capital_dict = {row['Country']:row['Capital City'] for row in csv_reader}\n",
    "\n",
    "df = pd.read_csv(global_sqm_csv_path)\n",
    "df['Capital City'] = df['Country/City'].map(country_capital_dict)\n",
    "df.loc[df['Country/City'] == 'Hong Kong', 'Capital City'] = 'Hong Kong'\n",
    "df.loc[df['Country/City'] == 'Taiwan', 'Capital City'] = 'Taipei'\n",
    "df.loc[df['Country/City'] == 'Puerto Rico', 'Capital City'] = 'San Juan'\n",
    "df.loc[df['Country/City'] == 'Czech Republic', 'Capital City'] = 'Prague'\n",
    "df.loc[df['Country/City'] == 'Turkey', 'Capital City'] = 'Ankara'\n",
    "\n",
    "capital_cities_in_global_sqm = list(df['Capital City'])"
   ]
  },
  {
   "cell_type": "markdown",
   "id": "52edb312-35de-4f3b-a6bf-9977bd33538c",
   "metadata": {},
   "source": [
    "I will use this function to check if city is in the capital cities list."
   ]
  },
  {
   "cell_type": "code",
   "execution_count": 81,
   "id": "52d9bea7-f2e0-4663-8969-61e9722ad50b",
   "metadata": {},
   "outputs": [],
   "source": [
    "def is_word_in_string_list(word, string_list):\n",
    "    return any(word.lower() in string.lower() for string in string_list)"
   ]
  },
  {
   "cell_type": "markdown",
   "id": "7d8a0320-9e82-4f16-87a1-5ec9709a6efd",
   "metadata": {},
   "source": [
    "## Scraping Airbnb data"
   ]
  },
  {
   "cell_type": "markdown",
   "id": "b99e442d-597c-4876-b137-730989d2679f",
   "metadata": {},
   "source": [
    "### Finding download links for files"
   ]
  },
  {
   "cell_type": "code",
   "execution_count": 4,
   "id": "ebc73424-4af8-433e-b084-f4446e7a6363",
   "metadata": {
    "scrolled": true
   },
   "outputs": [
    {
     "name": "stdout",
     "output_type": "stream",
     "text": [
      "http://data.insideairbnb.com/the-netherlands/north-holland/amsterdam/2023-06-05/data/listings.csv.gz\n",
      "http://data.insideairbnb.com/belgium/vlg/antwerp/2023-06-28/data/listings.csv.gz\n",
      "http://data.insideairbnb.com/united-states/nc/asheville/2023-06-18/data/listings.csv.gz\n",
      "http://data.insideairbnb.com/greece/attica/athens/2023-06-25/data/listings.csv.gz\n",
      "http://data.insideairbnb.com/united-states/tx/austin/2023-06-10/data/listings.csv.gz\n",
      "http://data.insideairbnb.com/thailand/central-thailand/bangkok/2023-06-26/data/listings.csv.gz\n",
      "http://data.insideairbnb.com/spain/catalonia/barcelona/2023-06-10/data/listings.csv.gz\n",
      "http://data.insideairbnb.com/australia/sa/barossa-valley/2023-06-27/data/listings.csv.gz\n",
      "http://data.insideairbnb.com/australia/vic/barwon-south-west-vic/2023-06-28/data/listings.csv.gz\n",
      "http://data.insideairbnb.com/china/beijing/beijing/2023-06-27/data/listings.csv.gz\n",
      "http://data.insideairbnb.com/belize/bz/belize/2023-06-28/data/listings.csv.gz\n",
      "http://data.insideairbnb.com/italy/lombardia/bergamo/2023-06-30/data/listings.csv.gz\n",
      "http://data.insideairbnb.com/germany/be/berlin/2023-06-22/data/listings.csv.gz\n",
      "http://data.insideairbnb.com/italy/emilia-romagna/bologna/2023-06-21/data/listings.csv.gz\n",
      "http://data.insideairbnb.com/france/nouvelle-aquitaine/bordeaux/2023-06-11/data/listings.csv.gz\n",
      "http://data.insideairbnb.com/united-states/ma/boston/2023-06-21/data/listings.csv.gz\n",
      "http://data.insideairbnb.com/united-states/mt/bozeman/2023-07-06/data/listings.csv.gz\n",
      "http://data.insideairbnb.com/united-kingdom/england/bristol/2023-06-26/data/listings.csv.gz\n",
      "http://data.insideairbnb.com/united-states/fl/broward-county/2023-06-25/data/listings.csv.gz\n",
      "http://data.insideairbnb.com/belgium/bru/brussels/2023-06-24/data/listings.csv.gz\n",
      "http://data.insideairbnb.com/argentina/ciudad-autónoma-de-buenos-aires/buenos-aires/2023-06-28/data/listings.csv.gz\n",
      "http://data.insideairbnb.com/united-states/ma/cambridge/2023-06-28/data/listings.csv.gz\n",
      "http://data.insideairbnb.com/south-africa/wc/cape-town/2023-06-28/data/listings.csv.gz\n",
      "http://data.insideairbnb.com/united-states/il/chicago/2023-06-18/data/listings.csv.gz\n",
      "http://data.insideairbnb.com/united-states/nv/clark-county-nv/2023-06-22/data/listings.csv.gz\n",
      "http://data.insideairbnb.com/united-states/oh/columbus/2023-06-26/data/listings.csv.gz\n",
      "http://data.insideairbnb.com/denmark/hovedstaden/copenhagen/2023-06-29/data/listings.csv.gz\n",
      "http://data.insideairbnb.com/greece/crete/crete/2023-06-28/data/listings.csv.gz\n",
      "http://data.insideairbnb.com/united-states/tx/dallas/2023-07-16/data/listings.csv.gz\n",
      "http://data.insideairbnb.com/united-states/co/denver/2023-06-30/data/listings.csv.gz\n",
      "http://data.insideairbnb.com/ireland/leinster/dublin/2023-06-10/data/listings.csv.gz\n",
      "http://data.insideairbnb.com/united-kingdom/scotland/edinburgh/2023-06-12/data/listings.csv.gz\n",
      "http://data.insideairbnb.com/spain/pv/euskadi/2023-06-30/data/listings.csv.gz\n",
      "http://data.insideairbnb.com/italy/toscana/florence/2023-06-21/data/listings.csv.gz\n",
      "http://data.insideairbnb.com/united-states/tx/fort-worth/2023-06-10/data/listings.csv.gz\n",
      "http://data.insideairbnb.com/switzerland/geneva/geneva/2023-06-28/data/listings.csv.gz\n",
      "http://data.insideairbnb.com/belgium/vlg/ghent/2023-06-26/data/listings.csv.gz\n",
      "http://data.insideairbnb.com/spain/catalonia/girona/2023-06-30/data/listings.csv.gz\n",
      "http://data.insideairbnb.com/united-kingdom/england/greater-manchester/2023-06-25/data/listings.csv.gz\n",
      "http://data.insideairbnb.com/united-states/hi/hawaii/2023-06-10/data/listings.csv.gz\n",
      "http://data.insideairbnb.com/china/hk/hong-kong/2023-06-24/data/listings.csv.gz\n",
      "http://data.insideairbnb.com/turkey/marmara/istanbul/2023-06-29/data/listings.csv.gz\n",
      "http://data.insideairbnb.com/united-states/nj/jersey-city/2023-06-24/data/listings.csv.gz\n",
      "http://data.insideairbnb.com/portugal/lisbon/lisbon/2023-06-12/data/listings.csv.gz\n",
      "http://data.insideairbnb.com/united-kingdom/england/london/2023-06-08/data/listings.csv.gz\n",
      "http://data.insideairbnb.com/united-states/ca/los-angeles/2023-06-06/data/listings.csv.gz\n",
      "http://data.insideairbnb.com/france/auvergne-rhone-alpes/lyon/2023-06-11/data/listings.csv.gz\n",
      "http://data.insideairbnb.com/spain/comunidad-de-madrid/madrid/2023-06-10/data/listings.csv.gz\n",
      "http://data.insideairbnb.com/spain/andalucía/malaga/2023-06-30/data/listings.csv.gz\n",
      "http://data.insideairbnb.com/spain/islas-baleares/mallorca/2023-06-11/data/listings.csv.gz\n",
      "http://data.insideairbnb.com/australia/vic/melbourne/2023-06-06/data/listings.csv.gz\n",
      "http://data.insideairbnb.com/spain/islas-baleares/menorca/2023-06-30/data/listings.csv.gz\n",
      "http://data.insideairbnb.com/mexico/df/mexico-city/2023-06-27/data/listings.csv.gz\n",
      "http://data.insideairbnb.com/australia/nsw/mid-north-coast/2023-07-08/data/listings.csv.gz\n",
      "http://data.insideairbnb.com/italy/lombardy/milan/2023-06-21/data/listings.csv.gz\n",
      "http://data.insideairbnb.com/canada/qc/montreal/2023-07-10/data/listings.csv.gz\n",
      "http://data.insideairbnb.com/australia/vic/mornington-peninsula/2023-06-11/data/listings.csv.gz\n",
      "http://data.insideairbnb.com/germany/bv/munich/2023-06-27/data/listings.csv.gz\n",
      "http://data.insideairbnb.com/italy/campania/naples/2023-06-21/data/listings.csv.gz\n",
      "http://data.insideairbnb.com/united-states/tn/nashville/2023-06-22/data/listings.csv.gz\n",
      "http://data.insideairbnb.com/canada/nb/new-brunswick/2023-06-29/data/listings.csv.gz\n",
      "http://data.insideairbnb.com/united-states/la/new-orleans/2023-06-06/data/listings.csv.gz\n",
      "http://data.insideairbnb.com/united-states/ny/new-york-city/2023-06-05/data/listings.csv.gz\n",
      "http://data.insideairbnb.com/united-states/nj/newark/2023-06-30/data/listings.csv.gz\n",
      "http://data.insideairbnb.com/australia/nsw/northern-rivers/2023-06-18/data/listings.csv.gz\n",
      "http://data.insideairbnb.com/united-states/ca/oakland/2023-06-24/data/listings.csv.gz\n",
      "http://data.insideairbnb.com/norway/oslo/oslo/2023-06-29/data/listings.csv.gz\n",
      "http://data.insideairbnb.com/united-states/ca/pacific-grove/2023-06-30/data/listings.csv.gz\n",
      "http://data.insideairbnb.com/france/ile-de-france/paris/2023-06-06/data/listings.csv.gz\n",
      "http://data.insideairbnb.com/france/pyrénées-atlantiques/pays-basque/2023-06-12/data/listings.csv.gz\n",
      "http://data.insideairbnb.com/united-states/or/portland/2023-06-24/data/listings.csv.gz\n",
      "http://data.insideairbnb.com/portugal/norte/porto/2023-06-12/data/listings.csv.gz\n",
      "http://data.insideairbnb.com/czech-republic/prague/prague/2023-06-24/data/listings.csv.gz\n",
      "http://data.insideairbnb.com/italy/puglia/puglia/2023-06-30/data/listings.csv.gz\n",
      "http://data.insideairbnb.com/canada/qc/quebec-city/2023-07-06/data/listings.csv.gz\n",
      "http://data.insideairbnb.com/united-states/ri/rhode-island/2023-06-30/data/listings.csv.gz\n",
      "http://data.insideairbnb.com/latvia/riga/riga/2023-06-29/data/listings.csv.gz\n",
      "http://data.insideairbnb.com/brazil/rj/rio-de-janeiro/2023-06-26/data/listings.csv.gz\n",
      "http://data.insideairbnb.com/italy/lazio/rome/2023-06-10/data/listings.csv.gz\n",
      "http://data.insideairbnb.com/the-netherlands/south-holland/rotterdam/2023-06-25/data/listings.csv.gz\n",
      "http://data.insideairbnb.com/united-states/or/salem-or/2023-06-25/data/listings.csv.gz\n",
      "http://data.insideairbnb.com/united-states/ca/san-diego/2023-06-24/data/listings.csv.gz\n",
      "http://data.insideairbnb.com/united-states/ca/san-francisco/2023-06-05/data/listings.csv.gz\n",
      "http://data.insideairbnb.com/united-states/ca/san-mateo-county/2023-06-24/data/listings.csv.gz\n",
      "http://data.insideairbnb.com/united-states/ca/santa-clara-county/2023-06-25/data/listings.csv.gz\n",
      "http://data.insideairbnb.com/united-states/ca/santa-cruz-county/2023-06-30/data/listings.csv.gz\n",
      "http://data.insideairbnb.com/chile/rm/santiago/2023-06-28/data/listings.csv.gz\n",
      "http://data.insideairbnb.com/united-states/wa/seattle/2023-06-24/data/listings.csv.gz\n",
      "http://data.insideairbnb.com/spain/andalucía/sevilla/2023-06-30/data/listings.csv.gz\n",
      "http://data.insideairbnb.com/china/shanghai/shanghai/2023-06-27/data/listings.csv.gz\n",
      "http://data.insideairbnb.com/italy/sicilia/sicily/2023-06-29/data/listings.csv.gz\n",
      "http://data.insideairbnb.com/singapore/sg/singapore/2023-06-28/data/listings.csv.gz\n",
      "http://data.insideairbnb.com/greece/south-aegean/south-aegean/2023-06-22/data/listings.csv.gz\n",
      "http://data.insideairbnb.com/sweden/stockholms-län/stockholm/2023-06-29/data/listings.csv.gz\n",
      "http://data.insideairbnb.com/australia/nsw/sydney/2023-06-06/data/listings.csv.gz\n",
      "http://data.insideairbnb.com/taiwan/northern-taiwan/taipei/2023-06-30/data/listings.csv.gz\n",
      "http://data.insideairbnb.com/australia/tas/tasmania/2023-06-05/data/listings.csv.gz\n",
      "http://data.insideairbnb.com/the-netherlands/south-holland/the-hague/2023-06-25/data/listings.csv.gz\n",
      "http://data.insideairbnb.com/greece/central-macedonia/thessaloniki/2023-06-25/data/listings.csv.gz\n",
      "http://data.insideairbnb.com/japan/kantō/tokyo/2023-06-29/data/listings.csv.gz\n",
      "http://data.insideairbnb.com/canada/on/toronto/2023-07-05/data/listings.csv.gz\n",
      "http://data.insideairbnb.com/italy/trentino-alto-adige-südtirol/trentino/2023-06-30/data/listings.csv.gz\n",
      "http://data.insideairbnb.com/united-states/mn/twin-cities-msa/2023-06-24/data/listings.csv.gz\n",
      "http://data.insideairbnb.com/spain/vc/valencia/2023-06-22/data/listings.csv.gz\n",
      "http://data.insideairbnb.com/canada/bc/vancouver/2023-06-10/data/listings.csv.gz\n",
      "http://data.insideairbnb.com/switzerland/vd/vaud/2023-08-03/data/listings.csv.gz\n",
      "http://data.insideairbnb.com/italy/veneto/venice/2023-06-05/data/listings.csv.gz\n",
      "http://data.insideairbnb.com/canada/bc/victoria/2023-06-29/data/listings.csv.gz\n",
      "http://data.insideairbnb.com/austria/vienna/vienna/2023-06-10/data/listings.csv.gz\n",
      "http://data.insideairbnb.com/united-states/dc/washington-dc/2023-06-18/data/listings.csv.gz\n",
      "http://data.insideairbnb.com/australia/wa/western-australia/2023-06-25/data/listings.csv.gz\n",
      "http://data.insideairbnb.com/canada/mb/winnipeg/2023-06-11/data/listings.csv.gz\n",
      "http://data.insideairbnb.com/switzerland/zürich/zurich/2023-06-29/data/listings.csv.gz\n",
      "http://data.insideairbnb.com/ireland/2023-06-24/data/listings.csv.gz\n",
      "http://data.insideairbnb.com/malta/2023-06-24/data/listings.csv.gz\n",
      "http://data.insideairbnb.com/new-zealand/2023-06-05/data/listings.csv.gz\n"
     ]
    }
   ],
   "source": [
    "import requests\n",
    "from bs4 import BeautifulSoup\n",
    "import os\n",
    "\n",
    "# URL of the website\n",
    "base_url = \"http://insideairbnb.com/get-the-data/\"\n",
    "\n",
    "# Create a directory to save the downloaded files\n",
    "if not os.path.exists(\"listings\"):\n",
    "    os.makedirs(\"listings\")\n",
    "\n",
    "# Make a request to the webpage and parse it with BeautifulSoup\n",
    "response = requests.get(base_url)\n",
    "soup = BeautifulSoup(response.content, \"html.parser\")\n",
    "\n",
    "# Find all links on the webpage\n",
    "links = soup.find_all(\"a\")\n",
    "\n",
    "# Loop through the links and download the files\n",
    "for link in links:\n",
    "    href = link.get(\"href\")\n",
    "    if href and \"listings.csv.gz\" in href:\n",
    "        if \n",
    "        print(href)"
   ]
  },
  {
   "cell_type": "markdown",
   "id": "2790899a-98c8-4c41-b401-8d5ac1e69028",
   "metadata": {},
   "source": [
    "### Parsing URL's for important information for use in filename"
   ]
  },
  {
   "cell_type": "code",
   "execution_count": 65,
   "id": "84f752c8-72be-4a53-bf6c-690973c050f0",
   "metadata": {},
   "outputs": [
    {
     "data": {
      "text/plain": [
       "['http:',\n",
       " '',\n",
       " 'data.insideairbnb.com',\n",
       " 'the-netherlands',\n",
       " 'north-holland',\n",
       " 'amsterdam',\n",
       " '2023-06-05',\n",
       " 'data',\n",
       " 'listings.csv.gz']"
      ]
     },
     "execution_count": 65,
     "metadata": {},
     "output_type": "execute_result"
    }
   ],
   "source": [
    "href_test = r\"http://data.insideairbnb.com/the-netherlands/north-holland/amsterdam/2023-06-05/data/listings.csv.gz\"\n",
    "href_test.split(\"/\")"
   ]
  },
  {
   "cell_type": "code",
   "execution_count": 66,
   "id": "618d0aa7-4a3c-4249-b99b-eab4d5c5103d",
   "metadata": {},
   "outputs": [
    {
     "data": {
      "text/plain": [
       "['http:',\n",
       " '',\n",
       " 'data.insideairbnb.com',\n",
       " 'australia',\n",
       " 'sa',\n",
       " 'barossa-valley',\n",
       " '2023-06-27',\n",
       " 'data',\n",
       " 'listings.csv.gz']"
      ]
     },
     "execution_count": 66,
     "metadata": {},
     "output_type": "execute_result"
    }
   ],
   "source": [
    "href_test = r\"http://data.insideairbnb.com/australia/sa/barossa-valley/2023-06-27/data/listings.csv.gz\"\n",
    "href_test.split(\"/\")"
   ]
  },
  {
   "cell_type": "markdown",
   "id": "34dd6f29-161e-429a-8e46-4d8df5d0a75a",
   "metadata": {},
   "source": [
    "From the two list splits above (as well as the full list of URLs) a pattern can be established for reliably obtaining country (index of 3 in list) and date (index of -3). City names are always before the date, however some urls don't contain a city name at all, but a region. This isn't a problem though as we will filter non-city "
   ]
  },
  {
   "cell_type": "code",
   "execution_count": 67,
   "id": "2d3d469d-7a79-4889-829e-b0c728d41919",
   "metadata": {},
   "outputs": [
    {
     "data": {
      "text/plain": [
       "'barossa-valley'"
      ]
     },
     "execution_count": 67,
     "metadata": {},
     "output_type": "execute_result"
    }
   ],
   "source": [
    "city_name = href_test.split(\"/\")[-4]\n",
    "city_name"
   ]
  },
  {
   "cell_type": "code",
   "execution_count": 68,
   "id": "8adf5d48-03a7-4163-8bab-3027a5524567",
   "metadata": {},
   "outputs": [
    {
     "data": {
      "text/plain": [
       "'australia'"
      ]
     },
     "execution_count": 68,
     "metadata": {},
     "output_type": "execute_result"
    }
   ],
   "source": [
    "country = href_test.split(\"/\")[3]\n",
    "country"
   ]
  },
  {
   "cell_type": "code",
   "execution_count": 69,
   "id": "215667e6-caa8-4834-8adc-de5d7c35f418",
   "metadata": {},
   "outputs": [
    {
     "data": {
      "text/plain": [
       "'2023-06-27'"
      ]
     },
     "execution_count": 69,
     "metadata": {},
     "output_type": "execute_result"
    }
   ],
   "source": [
    "date_of_data = href_test.split(\"/\")[-3]\n",
    "date_of_data"
   ]
  },
  {
   "cell_type": "code",
   "execution_count": 70,
   "id": "efd3e77f-38b1-4cd8-bda4-186394c78502",
   "metadata": {},
   "outputs": [
    {
     "data": {
      "text/plain": [
       "'barossa-valley_australia_2023-06-27_listings.csv.gz'"
      ]
     },
     "execution_count": 70,
     "metadata": {},
     "output_type": "execute_result"
    }
   ],
   "source": [
    "file_name = f\"{city_name}_{country}_{date_of_data}_listings.csv.gz\"\n",
    "file_name"
   ]
  },
  {
   "cell_type": "markdown",
   "id": "a29d0fda-9bc5-4ad2-ae09-688718e3a630",
   "metadata": {},
   "source": [
    "### Putting it all together: Downloading data and saving them with desired name"
   ]
  },
  {
   "cell_type": "code",
   "execution_count": 90,
   "id": "b75addd2-54eb-445b-ab4a-f72b3eaae43b",
   "metadata": {
    "collapsed": true,
    "jupyter": {
     "outputs_hidden": true
    }
   },
   "outputs": [
    {
     "name": "stdout",
     "output_type": "stream",
     "text": [
      "Downloaded: amsterdam_the-netherlands_2023-06-05_listings.csv.gz\n",
      "antwerp not in Global Property SQM data. Skipping download...\n",
      "asheville not in Global Property SQM data. Skipping download...\n",
      "Downloaded: athens_greece_2023-06-25_listings.csv.gz\n",
      "austin not in Global Property SQM data. Skipping download...\n",
      "Downloaded: bangkok_thailand_2023-06-26_listings.csv.gz\n",
      "barcelona not in Global Property SQM data. Skipping download...\n",
      "barossa-valley not in Global Property SQM data. Skipping download...\n",
      "barwon-south-west-vic not in Global Property SQM data. Skipping download...\n",
      "beijing not in Global Property SQM data. Skipping download...\n",
      "belize not in Global Property SQM data. Skipping download...\n",
      "bergamo not in Global Property SQM data. Skipping download...\n",
      "Downloaded: berlin_germany_2023-06-22_listings.csv.gz\n",
      "bologna not in Global Property SQM data. Skipping download...\n",
      "bordeaux not in Global Property SQM data. Skipping download...\n",
      "boston not in Global Property SQM data. Skipping download...\n",
      "bozeman not in Global Property SQM data. Skipping download...\n",
      "bristol not in Global Property SQM data. Skipping download...\n",
      "broward-county not in Global Property SQM data. Skipping download...\n",
      "Downloaded: brussels_belgium_2023-06-24_listings.csv.gz\n",
      "buenos-aires not in Global Property SQM data. Skipping download...\n",
      "cambridge not in Global Property SQM data. Skipping download...\n",
      "cape-town not in Global Property SQM data. Skipping download...\n",
      "chicago not in Global Property SQM data. Skipping download...\n",
      "clark-county-nv not in Global Property SQM data. Skipping download...\n",
      "columbus not in Global Property SQM data. Skipping download...\n",
      "Downloaded: copenhagen_denmark_2023-06-29_listings.csv.gz\n",
      "crete not in Global Property SQM data. Skipping download...\n",
      "dallas not in Global Property SQM data. Skipping download...\n",
      "denver not in Global Property SQM data. Skipping download...\n",
      "Downloaded: dublin_ireland_2023-06-10_listings.csv.gz\n",
      "edinburgh not in Global Property SQM data. Skipping download...\n",
      "euskadi not in Global Property SQM data. Skipping download...\n",
      "florence not in Global Property SQM data. Skipping download...\n",
      "fort-worth not in Global Property SQM data. Skipping download...\n",
      "geneva not in Global Property SQM data. Skipping download...\n",
      "ghent not in Global Property SQM data. Skipping download...\n",
      "girona not in Global Property SQM data. Skipping download...\n",
      "greater-manchester not in Global Property SQM data. Skipping download...\n",
      "hawaii not in Global Property SQM data. Skipping download...\n",
      "hong-kong not in Global Property SQM data. Skipping download...\n",
      "istanbul not in Global Property SQM data. Skipping download...\n",
      "jersey-city not in Global Property SQM data. Skipping download...\n",
      "Downloaded: lisbon_portugal_2023-06-12_listings.csv.gz\n",
      "Downloaded: london_united-kingdom_2023-06-08_listings.csv.gz\n",
      "los-angeles not in Global Property SQM data. Skipping download...\n",
      "lyon not in Global Property SQM data. Skipping download...\n",
      "Downloaded: madrid_spain_2023-06-10_listings.csv.gz\n",
      "malaga not in Global Property SQM data. Skipping download...\n",
      "mallorca not in Global Property SQM data. Skipping download...\n",
      "melbourne not in Global Property SQM data. Skipping download...\n",
      "menorca not in Global Property SQM data. Skipping download...\n",
      "mexico-city not in Global Property SQM data. Skipping download...\n",
      "mid-north-coast not in Global Property SQM data. Skipping download...\n",
      "milan not in Global Property SQM data. Skipping download...\n",
      "montreal not in Global Property SQM data. Skipping download...\n",
      "mornington-peninsula not in Global Property SQM data. Skipping download...\n",
      "munich not in Global Property SQM data. Skipping download...\n",
      "naples not in Global Property SQM data. Skipping download...\n",
      "nashville not in Global Property SQM data. Skipping download...\n",
      "new-brunswick not in Global Property SQM data. Skipping download...\n",
      "new-orleans not in Global Property SQM data. Skipping download...\n",
      "new-york-city not in Global Property SQM data. Skipping download...\n",
      "newark not in Global Property SQM data. Skipping download...\n",
      "northern-rivers not in Global Property SQM data. Skipping download...\n",
      "oakland not in Global Property SQM data. Skipping download...\n",
      "Downloaded: oslo_norway_2023-06-29_listings.csv.gz\n",
      "pacific-grove not in Global Property SQM data. Skipping download...\n",
      "Downloaded: paris_france_2023-06-06_listings.csv.gz\n",
      "pays-basque not in Global Property SQM data. Skipping download...\n",
      "portland not in Global Property SQM data. Skipping download...\n",
      "porto not in Global Property SQM data. Skipping download...\n",
      "Downloaded: prague_czech-republic_2023-06-24_listings.csv.gz\n",
      "puglia not in Global Property SQM data. Skipping download...\n",
      "quebec-city not in Global Property SQM data. Skipping download...\n",
      "rhode-island not in Global Property SQM data. Skipping download...\n",
      "Downloaded: riga_latvia_2023-06-29_listings.csv.gz\n",
      "rio-de-janeiro not in Global Property SQM data. Skipping download...\n",
      "Downloaded: rome_italy_2023-06-10_listings.csv.gz\n",
      "rotterdam not in Global Property SQM data. Skipping download...\n",
      "salem-or not in Global Property SQM data. Skipping download...\n",
      "san-diego not in Global Property SQM data. Skipping download...\n",
      "san-francisco not in Global Property SQM data. Skipping download...\n",
      "san-mateo-county not in Global Property SQM data. Skipping download...\n",
      "santa-clara-county not in Global Property SQM data. Skipping download...\n",
      "santa-cruz-county not in Global Property SQM data. Skipping download...\n",
      "Downloaded: santiago_chile_2023-06-28_listings.csv.gz\n",
      "seattle not in Global Property SQM data. Skipping download...\n",
      "sevilla not in Global Property SQM data. Skipping download...\n",
      "shanghai not in Global Property SQM data. Skipping download...\n",
      "sicily not in Global Property SQM data. Skipping download...\n",
      "Downloaded: singapore_singapore_2023-06-28_listings.csv.gz\n",
      "south-aegean not in Global Property SQM data. Skipping download...\n",
      "Downloaded: stockholm_sweden_2023-06-29_listings.csv.gz\n",
      "sydney not in Global Property SQM data. Skipping download...\n",
      "Downloaded: taipei_taiwan_2023-06-30_listings.csv.gz\n",
      "tasmania not in Global Property SQM data. Skipping download...\n",
      "the-hague not in Global Property SQM data. Skipping download...\n",
      "thessaloniki not in Global Property SQM data. Skipping download...\n",
      "Downloaded: tokyo_japan_2023-06-29_listings.csv.gz\n",
      "toronto not in Global Property SQM data. Skipping download...\n",
      "trentino not in Global Property SQM data. Skipping download...\n",
      "twin-cities-msa not in Global Property SQM data. Skipping download...\n",
      "valencia not in Global Property SQM data. Skipping download...\n",
      "vancouver not in Global Property SQM data. Skipping download...\n",
      "vaud not in Global Property SQM data. Skipping download...\n",
      "venice not in Global Property SQM data. Skipping download...\n",
      "victoria not in Global Property SQM data. Skipping download...\n",
      "Downloaded: vienna_austria_2023-06-10_listings.csv.gz\n",
      "washington-dc not in Global Property SQM data. Skipping download...\n",
      "western-australia not in Global Property SQM data. Skipping download...\n",
      "winnipeg not in Global Property SQM data. Skipping download...\n",
      "zurich not in Global Property SQM data. Skipping download...\n",
      "ireland not in Global Property SQM data. Skipping download...\n",
      "malta not in Global Property SQM data. Skipping download...\n",
      "new-zealand not in Global Property SQM data. Skipping download...\n",
      "Download completed.\n"
     ]
    }
   ],
   "source": [
    "import requests\n",
    "from bs4 import BeautifulSoup\n",
    "import os\n",
    "\n",
    "# URL of the website\n",
    "base_url = \"http://insideairbnb.com/get-the-data/\"\n",
    "\n",
    "output_dir = \"data/listings\"\n",
    "\n",
    "# Create a directory to save the downloaded files\n",
    "if not os.path.exists(output_dir):\n",
    "    os.makedirs(output_dir)\n",
    "\n",
    "# Make a request to the webpage and parse it with BeautifulSoup\n",
    "response = requests.get(base_url)\n",
    "soup = BeautifulSoup(response.content, \"html.parser\")\n",
    "\n",
    "# Find all links on the webpage\n",
    "links = soup.find_all(\"a\")\n",
    "\n",
    "# Loop through the links and download the files\n",
    "for link in links:\n",
    "    href = link.get(\"href\")\n",
    "    if href and \"listings.csv.gz\" in href:\n",
    "        city_name = href.split(\"/\")[-4]  # Extract city name from the URL\n",
    "        country = href.split(\"/\")[3]  # Extract country name from URL\n",
    "        date_of_data = href.split(\"/\")[-3]  # Extract date of data from URL\n",
    "\n",
    "        if not is_word_in_string_list(city_name, capital_cities_in_global_sqm):\n",
    "            print(f\"{city_name} not in Global Property SQM data. Skipping download...\")\n",
    "            continue\n",
    "        \n",
    "        file_url = href\n",
    "        file_name = f\"{city_name}_{country}_{date_of_data}_listings.csv.gz\"\n",
    "        file_path = os.path.join(output_dir, file_name)\n",
    "\n",
    "        # Download the file\n",
    "        response = requests.get(file_url)\n",
    "        with open(file_path, \"wb\") as file:\n",
    "            file.write(response.content)\n",
    "        \n",
    "        print(f\"Downloaded: {file_name}\")\n",
    "\n",
    "print(\"Download completed.\")\n"
   ]
  }
 ],
 "metadata": {
  "kernelspec": {
   "display_name": "Python 3 (ipykernel)",
   "language": "python",
   "name": "python3"
  },
  "language_info": {
   "codemirror_mode": {
    "name": "ipython",
    "version": 3
   },
   "file_extension": ".py",
   "mimetype": "text/x-python",
   "name": "python",
   "nbconvert_exporter": "python",
   "pygments_lexer": "ipython3",
   "version": "3.8.10"
  }
 },
 "nbformat": 4,
 "nbformat_minor": 5
}
